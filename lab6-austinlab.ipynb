{
  "nbformat": 4,
  "nbformat_minor": 0,
  "metadata": {
    "colab": {
      "name": "Untitled3.ipynb",
      "provenance": [],
      "authorship_tag": "ABX9TyOmO73BpOwOZLM4QkPWWEuY",
      "include_colab_link": true
    },
    "kernelspec": {
      "name": "python3",
      "display_name": "Python 3"
    },
    "language_info": {
      "name": "python"
    }
  },
  "cells": [
    {
      "cell_type": "markdown",
      "metadata": {
        "id": "view-in-github",
        "colab_type": "text"
      },
      "source": [
        "<a href=\"https://colab.research.google.com/github/austlab/lab6-austinlabrecque/blob/main/lab6-austinlab.ipynb\" target=\"_parent\"><img src=\"https://colab.research.google.com/assets/colab-badge.svg\" alt=\"Open In Colab\"/></a>"
      ]
    },
    {
      "cell_type": "code",
      "execution_count": 10,
      "metadata": {
        "colab": {
          "base_uri": "https://localhost:8080/"
        },
        "id": "My1dUi-_VTld",
        "outputId": "d3fd8980-db12-40f6-b298-b9a41aa3e1ef"
      },
      "outputs": [
        {
          "output_type": "stream",
          "name": "stdout",
          "text": [
            "Getting user information...success\n",
            "Posting to PasteBin...success\n",
            "https://pastebin.com/cV7RQZzm\n"
          ]
        }
      ],
      "source": [
        "import requests\n",
        "from sys import argv\n",
        "\n",
        "def main():\n",
        "    poke_name = argv[1] \n",
        "    poke_info = get_poke_info(poke_name)\n",
        "  \n",
        "    if poke_info:\n",
        "        pb_strings = get_title_and_text(poke_info)\n",
        "        pb_url = post_to_pastebin(pb_strings[0], pb_strings[1])\n",
        "        print(pb_url)\n",
        "\n",
        "def get_poke_info(poke_name):\n",
        "    print(\"Getting user information...\", end='')\n",
        "    URL = 'http://pokeapi.co/api/v2/pokemon/'\n",
        "    response = requests.get(URL + str(poke_name))\n",
        "\n",
        "    if response.status_code == 200:\n",
        "        print('success')\n",
        "        return response.json()\n",
        "    else:\n",
        "        print('failed. Response code:', response.status_code)\n",
        "        return\n",
        "\n",
        "def get_title_and_text(user_dict):\n",
        "    title = user_dict['name'] + \"'s Abilities\"\n",
        "    body_text=\"\"\n",
        "    for entry1 in user_dict['abilities']:\n",
        "     ability_list = (entry1['ability']['name'])\n",
        "     body_text += \"-\"+ability_list+\"\\n\"\n",
        "    return (title, body_text)\n",
        "\n",
        "def post_to_pastebin(title, body_text):\n",
        "    print(\"Posting to PasteBin...\", end='')\n",
        "\n",
        "    params = {\n",
        "    'api_dev_key': \"f4R0OTFza_qTQ1NZJYLjoCeLqoHQux4X\",\n",
        "    'api_option': 'paste',\n",
        "    'api_paste_code': body_text,\n",
        "    'api_paste_name': title\n",
        "    }\n",
        "    URL = 'https://pastebin.com/api/api_post.php'\n",
        "    response = requests.post(URL, data=params)\n",
        "\n",
        "    if response.status_code == 200:\n",
        "        print('success')\n",
        "        return response.text # Converts response body to a string\n",
        "    else:\n",
        "        print('failed. Response code:', response.status_code)\n",
        "        return response.status_code\n",
        "\n",
        "main()"
      ]
    }
  ]
}